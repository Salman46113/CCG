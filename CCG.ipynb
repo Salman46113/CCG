{
 "cells": [
  {
   "cell_type": "code",
   "execution_count": 1,
   "metadata": {},
   "outputs": [
    {
     "name": "stdout",
     "output_type": "stream",
     "text": [
      "red blue pink orange yellow green purple\n",
      "Enter the colour from above of ur choice : \t1\n",
      "Enter valid color\n",
      "red blue pink orange yellow green purple\n",
      "Enter the colour from above of ur choice : \tpurple\n",
      "Now its computer turn\n",
      "\n",
      "you win\n",
      "\n",
      "Your score 7\n",
      "\n",
      "Computer score 6\n",
      "Do you want to continue y/n :\tn\n"
     ]
    }
   ],
   "source": [
    "from random import choice\n",
    "import time\n",
    "colurs={'red':1,'blue':2,'pink':3,'orange':4,'yellow':5,'green':6,'purple':7}\n",
    "lcolor=list(colurs.keys())\n",
    "\n",
    "while True:\n",
    "    print(*lcolor)\n",
    "    print()\n",
    "    urint=input('Enter the colour from above of ur choice : \\t')\n",
    "    try:\n",
    "        user=colurs[urint]\n",
    "    except KeyError:\n",
    "        print('Enter valid color')\n",
    "        continue\n",
    "    \n",
    "    \n",
    "    \n",
    "    print('Now its computer turn')\n",
    "    time.sleep(2)\n",
    "    computer=colurs[choice(lcolor)]\n",
    "    \n",
    "    print()\n",
    "    \n",
    "    if user>computer:\n",
    "        print('you win')\n",
    "    elif user==computer:\n",
    "        print('It a tie')\n",
    "    else:\n",
    "        print('Better luck next time')\n",
    "    \n",
    "    print()\n",
    "    print('Your score',user)\n",
    "    print()\n",
    "    print('Computer score',computer)\n",
    "    reply=input('Do you want to continue y/n :\\t')\n",
    "    if reply=='y' or reply=='Y':\n",
    "        continue\n",
    "    else:\n",
    "        break\n",
    "        "
   ]
  },
  {
   "cell_type": "code",
   "execution_count": null,
   "metadata": {},
   "outputs": [],
   "source": []
  }
 ],
 "metadata": {
  "kernelspec": {
   "display_name": "Python 3",
   "language": "python",
   "name": "python3"
  },
  "language_info": {
   "codemirror_mode": {
    "name": "ipython",
    "version": 3
   },
   "file_extension": ".py",
   "mimetype": "text/x-python",
   "name": "python",
   "nbconvert_exporter": "python",
   "pygments_lexer": "ipython3",
   "version": "3.7.3"
  }
 },
 "nbformat": 4,
 "nbformat_minor": 2
}
