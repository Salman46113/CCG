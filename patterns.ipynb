{
 "cells": [
  {
   "cell_type": "markdown",
   "metadata": {
    "scrolled": true
   },
   "source": [
    "# Patterns"
   ]
  },
  {
   "cell_type": "raw",
   "metadata": {},
   "source": [
    "# 1\n",
    "\n",
    "*\n",
    "**\n",
    "***\n",
    "****\n",
    "*****"
   ]
  },
  {
   "cell_type": "code",
   "execution_count": 4,
   "metadata": {},
   "outputs": [
    {
     "name": "stdout",
     "output_type": "stream",
     "text": [
      "Enter the number height : 5\n",
      "*\n",
      "**\n",
      "***\n",
      "****\n",
      "*****\n"
     ]
    }
   ],
   "source": [
    "for i in range(1,int(input('Enter the number height : '))+1):\n",
    "    print('*'*i)"
   ]
  },
  {
   "cell_type": "raw",
   "metadata": {},
   "source": [
    "# 2\n",
    "\n",
    "*****\n",
    "****\n",
    "***\n",
    "**\n",
    "*"
   ]
  },
  {
   "cell_type": "code",
   "execution_count": 2,
   "metadata": {},
   "outputs": [
    {
     "name": "stdout",
     "output_type": "stream",
     "text": [
      "Enter the number height : 5\n",
      "*****\n",
      "****\n",
      "***\n",
      "**\n",
      "*\n"
     ]
    }
   ],
   "source": [
    "x=int(input('Enter the number height : '))\n",
    "for i in range(x,0,-1):\n",
    "    print('*'*i)"
   ]
  },
  {
   "cell_type": "raw",
   "metadata": {},
   "source": [
    "#  3\n",
    "       *\n",
    "      **\n",
    "     ***\n",
    "    ****\n",
    "   *****"
   ]
  },
  {
   "cell_type": "code",
   "execution_count": 5,
   "metadata": {},
   "outputs": [
    {
     "name": "stdout",
     "output_type": "stream",
     "text": [
      "Enter the number height : 6\n",
      "     *\n",
      "    **\n",
      "   ***\n",
      "  ****\n",
      " *****\n",
      "******\n"
     ]
    }
   ],
   "source": [
    "x=int(input('Enter the number height : '))\n",
    "for i in range(1,x+1):\n",
    "      y='*'*i\n",
    "      y=str(y)\n",
    "      print(y.rjust(x))"
   ]
  },
  {
   "cell_type": "code",
   "execution_count": 11,
   "metadata": {},
   "outputs": [
    {
     "name": "stdout",
     "output_type": "stream",
     "text": [
      "A \n",
      "B B \n",
      "C C C \n",
      "D D D D \n",
      "E E E E E \n",
      "F F F F F F \n"
     ]
    }
   ],
   "source": [
    "x=ord('A')\n",
    "for i in range(1,7):\n",
    "    #x=ord('A')\n",
    "    for j in range(i):\n",
    "        print(chr(x),end=' ')\n",
    "    x+=1\n",
    "    print()"
   ]
  },
  {
   "cell_type": "code",
   "execution_count": 13,
   "metadata": {},
   "outputs": [
    {
     "name": "stdout",
     "output_type": "stream",
     "text": [
      "AA \n",
      "AA BB \n",
      "AA BB CC \n",
      "AA BB CC DD \n",
      "AA BB CC DD EE \n",
      "AA BB CC DD EE FF \n"
     ]
    }
   ],
   "source": [
    "for i in range(1,7):\n",
    "    x=ord('A')\n",
    "    for j in range(i):\n",
    "        print(chr(x)*2,end=' ')\n",
    "        x+=1\n",
    "    print()"
   ]
  },
  {
   "cell_type": "code",
   "execution_count": 71,
   "metadata": {},
   "outputs": [
    {
     "name": "stdout",
     "output_type": "stream",
     "text": [
      "5432112345\n",
      "5432  2345\n",
      "543    345\n",
      "54      45\n",
      "5        5\n",
      "          \n"
     ]
    }
   ],
   "source": [
    "for i in range(6):\n",
    "    for j in range(6-1,i,-1):\n",
    "        print(j,end='')\n",
    "    for l in range(i):\n",
    "        print(end='  ')\n",
    "    for k in range(i+1,6):\n",
    "        print(k,end=(''))\n",
    "    print()"
   ]
  },
  {
   "cell_type": "code",
   "execution_count": 78,
   "metadata": {},
   "outputs": [
    {
     "name": "stdout",
     "output_type": "stream",
     "text": [
      "Enter the height : 6\n",
      "________________* \n",
      "_______________* * \n",
      "______________* * * \n",
      "_____________* * * * \n",
      "____________* * * * * \n",
      "___________* * * * * * \n"
     ]
    }
   ],
   "source": [
    "size=int(input('Enter the height : '))\n",
    "m=3*size-2\n",
    "for i in range(size):\n",
    "    for j in range(m):\n",
    "        print(end='_')\n",
    "    m-=1\n",
    "    for k in range(0,i+1):\n",
    "        print('* ',end=(''))\n",
    "    print()"
   ]
  },
  {
   "cell_type": "code",
   "execution_count": 81,
   "metadata": {},
   "outputs": [
    {
     "name": "stdout",
     "output_type": "stream",
     "text": [
      "**********\n",
      "****__****\n",
      "***____***\n",
      "**______**\n",
      "*________*\n"
     ]
    }
   ],
   "source": [
    "for i in range(5):\n",
    "    for j in range(6-1,i,-1):\n",
    "        print('*',end='')\n",
    "    for l in range(i):\n",
    "        print(end='__')\n",
    "    for k in range(i+1,6):\n",
    "        print('*',end=(''))\n",
    "    print()"
   ]
  },
  {
   "cell_type": "code",
   "execution_count": 102,
   "metadata": {},
   "outputs": [
    {
     "name": "stdout",
     "output_type": "stream",
     "text": [
      "                                        \n",
      "                                       A \n",
      "                                      B C \n",
      "                                     D E F \n",
      "                                    G H I J \n",
      "                                   K L M N O \n",
      "                                  P Q R S T U \n",
      "                                 V W X Y Z [ \\ \n"
     ]
    }
   ],
   "source": [
    "#size=int(input('ente the height : '))\n",
    "size=8\n",
    "m=5*size\n",
    "x=ord('A')\n",
    "for i in range(size):\n",
    "    for j in range(m):\n",
    "        print(end=' ')\n",
    "    m-=1\n",
    "    for k in range(i):\n",
    "        print(chr(x),end=' ')\n",
    "        x+=1\n",
    "    print()"
   ]
  },
  {
   "cell_type": "code",
   "execution_count": null,
   "metadata": {},
   "outputs": [],
   "source": []
  }
 ],
 "metadata": {
  "kernelspec": {
   "display_name": "Python 3",
   "language": "python",
   "name": "python3"
  },
  "language_info": {
   "codemirror_mode": {
    "name": "ipython",
    "version": 3
   },
   "file_extension": ".py",
   "mimetype": "text/x-python",
   "name": "python",
   "nbconvert_exporter": "python",
   "pygments_lexer": "ipython3",
   "version": "3.7.3"
  }
 },
 "nbformat": 4,
 "nbformat_minor": 2
}
